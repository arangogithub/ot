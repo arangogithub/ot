{
 "cells": [
  {
   "cell_type": "code",
   "execution_count": 12,
   "metadata": {},
   "outputs": [],
   "source": [
    "%matplotlib inline\n",
    "\n",
    "import numpy as np\n",
    "import matplotlib.pyplot as plt\n",
    " "
   ]
  },
  {
   "cell_type": "code",
   "execution_count": 17,
   "metadata": {},
   "outputs": [],
   "source": [
    "nn = 120\n",
    "x = np.linspace(-1, 1, nn)\n",
    "def lista(t):\n",
    "    return np.sort(np.array([(1-t)*x[j] + t*x[i] for i in range (nn) for j in range(nn)]) )   "
   ]
  },
  {
   "cell_type": "code",
   "execution_count": 27,
   "metadata": {},
   "outputs": [
    {
     "data": {
      "text/plain": [
       "array([-1.        , -0.99663866, -0.99327731, -0.98991597, -0.98655462,\n",
       "       -0.98655462, -0.98319328, -0.98319328, -0.97983193, -0.97983193,\n",
       "       -0.97647059, -0.97647059, -0.97310924, -0.97310924, -0.97310924,\n",
       "       -0.9697479 , -0.9697479 , -0.9697479 , -0.96638655, -0.96638655])"
      ]
     },
     "execution_count": 27,
     "metadata": {},
     "output_type": "execute_result"
    }
   ],
   "source": [
    "lista(0.2)[:20]"
   ]
  },
  {
   "cell_type": "code",
   "execution_count": 28,
   "metadata": {},
   "outputs": [
    {
     "data": {
      "text/plain": [
       "(0.0, 3)"
      ]
     },
     "execution_count": 28,
     "metadata": {},
     "output_type": "execute_result"
    },
    {
     "data": {
      "image/png": "[encoded data removed]",
      "text/plain": [
       "<Figure size 1440x360 with 1 Axes>"
      ]
     },
     "metadata": {
      "needs_background": "light"
     },
     "output_type": "display_data"
    }
   ],
   "source": [
    "\n",
    "fig, ax = plt.subplots(1, 1,figsize=(20, 5))\n",
    "#ax.vlines(0.003361344537814892,0,3, alpha=0.3, colors='g',linewidths=20) \n",
    "#for z in x[0:5]:\n",
    "    #ax.vlines(z,0,3, alpha=0.3, colors='b',linewidths=10)\n",
    "    \n",
    "for z in lista(0.2)[0:20]:\n",
    "    ax.vlines(z,0,3, alpha=0.3, colors='r', linewidths=3) \n",
    "ticks = lista(0.2)[0:20]    \n",
    "plt.xticks(ticks, rotation='vertical' )    \n",
    "ax.set_xlim([-1, -0.96638655])\n",
    "ax.set_ylim([0.0, 3])    "
   ]
  },
  {
   "cell_type": "code",
   "execution_count": 29,
   "metadata": {},
   "outputs": [
    {
     "data": {
      "text/plain": [
       "-0.9966386554621851"
      ]
     },
     "execution_count": 29,
     "metadata": {},
     "output_type": "execute_result"
    }
   ],
   "source": [
    "def threshold(t):\n",
    "    lst = lista(t)\n",
    "    dif = np.diff(lst)\n",
    "    return np.sort([z for z in dif if z>t/(2*nn**2)])[0] \n",
    "-1+threshold(0.2)    "
   ]
  },
  {
   "cell_type": "code",
   "execution_count": null,
   "metadata": {},
   "outputs": [],
   "source": [
    "tvalues0 = np.linspace(0, 1, 10)\n",
    "thr_values0 = [threshold(t) for t in tvalues0]\n",
    "\n",
    "tvalues1 = np.linspace(0, 1, 50)\n",
    "thr_values1 = [threshold(t) for t in tvalues1]\n",
    "tvalues2 = np.linspace(0, 1, 100)\n",
    "thr_values2 = [threshold(t) for t in tvalues2]\n",
    "tvalues3= np.linspace(0, 1, 200)\n",
    "thr_values3 = [threshold(t) for t in tvalues3]"
   ]
  },
  {
   "cell_type": "code",
   "execution_count": null,
   "metadata": {},
   "outputs": [],
   "source": [
    "fig, ax = plt.subplots(1, 1,figsize=(20, 5))\n",
    "ax.scatter(tvalues0,thr_values0, s =20 )\n",
    "ax.scatter(tvalues1,thr_values1, s =15 )\n",
    "ax.scatter(tvalues2,thr_values2, s =10 ) \n",
    "ax.scatter(tvalues3,thr_values3, s =5 )\n",
    "ax.set_xlim([0, 1])\n",
    "ax.set_ylim([0.0, 0.0215])   "
   ]
  },
  {
   "cell_type": "code",
   "execution_count": null,
   "metadata": {},
   "outputs": [],
   "source": [
    "dif= np.diff(lista(0.2)) \n",
    "np.sort([z for z in dif if z>0.00001])\n",
    "#np.around(dif,4)"
   ]
  },
  {
   "cell_type": "code",
   "execution_count": null,
   "metadata": {},
   "outputs": [],
   "source": [
    "np.around(lista(0.2)[:20],3)"
   ]
  },
  {
   "cell_type": "code",
   "execution_count": null,
   "metadata": {},
   "outputs": [],
   "source": [
    "np.histogram(listord)"
   ]
  },
  {
   "cell_type": "code",
   "execution_count": null,
   "metadata": {},
   "outputs": [],
   "source": []
  }
 ],
 "metadata": {
  "kernelspec": {
   "display_name": "Python 3",
   "language": "python",
   "name": "python3"
  },
  "language_info": {
   "codemirror_mode": {
    "name": "ipython",
    "version": 3
   },
   "file_extension": ".py",
   "mimetype": "text/x-python",
   "name": "python",
   "nbconvert_exporter": "python",
   "pygments_lexer": "ipython3",
   "version": "3.7.4"
  }
 },
 "nbformat": 4,
 "nbformat_minor": 2
}
